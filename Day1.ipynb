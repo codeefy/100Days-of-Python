{
 "cells": [
  {
   "cell_type": "code",
   "execution_count": 1,
   "metadata": {},
   "outputs": [
    {
     "name": "stdout",
     "output_type": "stream",
     "text": [
      "Invalid input. Please enter a valid integer.\n"
     ]
    },
    {
     "ename": "NameError",
     "evalue": "name 'num' is not defined",
     "output_type": "error",
     "traceback": [
      "\u001b[1;31m---------------------------------------------------------------------------\u001b[0m",
      "\u001b[1;31mNameError\u001b[0m                                 Traceback (most recent call last)",
      "Cell \u001b[1;32mIn[1], line 12\u001b[0m\n\u001b[0;32m      7\u001b[0m     \u001b[38;5;28mprint\u001b[39m(\u001b[38;5;124m'\u001b[39m\u001b[38;5;124mInvalid input. Please enter a valid integer.\u001b[39m\u001b[38;5;124m'\u001b[39m)\n\u001b[0;32m     11\u001b[0m \u001b[38;5;66;03m# Get the absolute value of the input number\u001b[39;00m\n\u001b[1;32m---> 12\u001b[0m absNum \u001b[38;5;241m=\u001b[39m \u001b[38;5;28mabs\u001b[39m(\u001b[43mnum\u001b[49m)\n\u001b[0;32m     14\u001b[0m \u001b[38;5;66;03m# Initialize variable to store the reversed number\u001b[39;00m\n\u001b[0;32m     15\u001b[0m rev \u001b[38;5;241m=\u001b[39m absNum \u001b[38;5;241m%\u001b[39m \u001b[38;5;241m10\u001b[39m\n",
      "\u001b[1;31mNameError\u001b[0m: name 'num' is not defined"
     ]
    }
   ],
   "source": [
    "# Take input from the user\n",
    "\n",
    "try:\n",
    "    num = int(input('Enter a number: '))\n",
    "    # Your code to check for palindrome\n",
    "except ValueError:\n",
    "    print('Invalid input. Please enter a valid integer.')\n",
    "\n",
    "\n",
    "\n",
    "# Get the absolute value of the input number\n",
    "absNum = abs(num)\n",
    "\n",
    "# Initialize variable to store the reversed number\n",
    "rev = absNum % 10\n",
    "\n",
    "# Remove the last digit from the absolute number\n",
    "absNum = absNum // 10\n",
    "\n",
    "# Reverse the number\n",
    "while absNum > 0:\n",
    "    r = absNum % 10  # Get the last digit of the absolute number\n",
    "    absNum = absNum // 10  # Remove the last digit from the absolute number\n",
    "    rev = rev * 10 + r  # Append the last digit to the reversed number\n",
    "\n",
    "# Adjust the reversed number for negative input\n",
    "if num < 0:\n",
    "    rev = rev - 2 * rev\n",
    "\n",
    "# Check if the original number is equal to the reversed number\n",
    "if num == rev:\n",
    "    print('Palindrome')\n",
    "else:\n",
    "    print('Not a palindrome')\n"
   ]
  }
 ],
 "metadata": {
  "kernelspec": {
   "display_name": "Python 3",
   "language": "python",
   "name": "python3"
  },
  "language_info": {
   "codemirror_mode": {
    "name": "ipython",
    "version": 3
   },
   "file_extension": ".py",
   "mimetype": "text/x-python",
   "name": "python",
   "nbconvert_exporter": "python",
   "pygments_lexer": "ipython3",
   "version": "3.11.3"
  }
 },
 "nbformat": 4,
 "nbformat_minor": 2
}

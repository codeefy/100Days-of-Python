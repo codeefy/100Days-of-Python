{
 "cells": [
  {
   "cell_type": "code",
   "execution_count": 5,
   "id": "b2648881",
   "metadata": {},
   "outputs": [
    {
     "name": "stdout",
     "output_type": "stream",
     "text": [
      "enter your number\n",
      "4\n",
      "24\n"
     ]
    }
   ],
   "source": [
    "print(\"enter your number\")\n",
    "n=int(input())\n",
    "i=1\n",
    "answer=1\n",
    "while(i<=n):\n",
    "    answer=answer*i\n",
    "    i+=1\n",
    "print(answer)"
   ]
  },
  {
   "cell_type": "code",
   "execution_count": 6,
   "id": "2196ed2b",
   "metadata": {},
   "outputs": [
    {
     "name": "stdout",
     "output_type": "stream",
     "text": [
      "enter my  number4\n",
      "24\n"
     ]
    }
   ],
   "source": [
    "#find the factorial in every case\n",
    "num=int(input(\"enter my  number\"))\n",
    "fact=1\n",
    "if(num<0):\n",
    "    print(\"not defined\")\n",
    "else:\n",
    "    while(num>0):\n",
    "        fact = fact * num\n",
    "        num = num-1\n",
    "    print(fact)"
   ]
  },
  {
   "cell_type": "code",
   "execution_count": 7,
   "id": "1150da0a",
   "metadata": {},
   "outputs": [
    {
     "name": "stdout",
     "output_type": "stream",
     "text": [
      "5\n",
      "1\n"
     ]
    },
    {
     "data": {
      "text/plain": [
       "12"
      ]
     },
     "execution_count": 7,
     "metadata": {},
     "output_type": "execute_result"
    }
   ],
   "source": [
    "num=abs(int(input()))\n",
    "digit=1 # it cover all the digit from -9 to 9 it means we have already count single digit number now we have to count number >9\n",
    "while(num>9):\n",
    "    num=num//10 #  it gives only integer part and  it devied the number greater than 10 untill the number comes less than 9 \n",
    "    digit=digit+1\n",
    "print(digit)\n",
    "#num=1234\n",
    "#more than 9\n",
    "#it divide 1234//10 =123\n",
    "#digit becomes  2\n",
    "#still 123 >9 further devies \n",
    "12\n",
    "#digit becomes 3 \n",
    "# still 12 >9 then again devied and gives intergral part 1 \n",
    "# and the digit becomes 4 finally \n",
    "# now the while loop end ! "
   ]
  },
  {
   "cell_type": "code",
   "execution_count": 8,
   "id": "18490893",
   "metadata": {},
   "outputs": [
    {
     "data": {
      "text/plain": [
       "4"
      ]
     },
     "execution_count": 8,
     "metadata": {},
     "output_type": "execute_result"
    }
   ],
   "source": [
    "1234%10\n"
   ]
  },
  {
   "cell_type": "code",
   "execution_count": 9,
   "id": "7a076505",
   "metadata": {},
   "outputs": [
    {
     "name": "stdout",
     "output_type": "stream",
     "text": [
      "0 delhi is too much polluted \n",
      "1 delhi is too much polluted \n",
      "2 delhi is too much polluted \n",
      "3 delhi is too much polluted \n",
      "4 delhi is too much polluted \n",
      "5 delhi is too much polluted \n",
      "6 delhi is too much polluted \n",
      "7 delhi is too much polluted \n",
      "8 delhi is too much polluted \n",
      "9 delhi is too much polluted \n",
      "10 delhi is too much polluted \n",
      "11 delhi is too much polluted \n"
     ]
    }
   ],
   "source": [
    "#forloop examples\n",
    "for i in range(12):\n",
    "    print(i,\"delhi is too much polluted \")"
   ]
  },
  {
   "cell_type": "code",
   "execution_count": 10,
   "id": "e675651a",
   "metadata": {
    "scrolled": true
   },
   "outputs": [
    {
     "name": "stdout",
     "output_type": "stream",
     "text": [
      "enter a number\n",
      "5\n",
      "0 hello india\n",
      "1 hi world\n",
      "2 hello india\n",
      "3 hi world\n",
      "4 hello india\n"
     ]
    }
   ],
   "source": [
    "print(\"enter a number\")\n",
    "n=int(input())\n",
    "\n",
    "for i in range(n):\n",
    "    if (i%2==0):\n",
    "        print(i,\"hello india\")\n",
    "    else:\n",
    "        print(i,\"hi world\")\n",
    "        "
   ]
  },
  {
   "cell_type": "code",
   "execution_count": 11,
   "id": "7f4f3041",
   "metadata": {
    "scrolled": true
   },
   "outputs": [
    {
     "name": "stdout",
     "output_type": "stream",
     "text": [
      "45\n"
     ]
    }
   ],
   "source": [
    "#add the first 10 integers \n",
    "#0+1+2+3+4+5+6+7+8+9=45\n",
    "ans=0\n",
    "for i in range(10):\n",
    "    ans=ans+i\n",
    "print(ans)\n",
    "    \n",
    "    \n",
    "    \n",
    "    #ans=0\n",
    "    #ans=ans+0 the value is 0\n",
    "    #ans=ans+1 the value is 1 \n",
    "    #ans=ans+2 the value is 3 \n",
    "    #ans=ans+3 the value is 6 and this continue up to 9 "
   ]
  },
  {
   "cell_type": "code",
   "execution_count": 12,
   "id": "ca3b1480",
   "metadata": {},
   "outputs": [
    {
     "name": "stdout",
     "output_type": "stream",
     "text": [
      "enter a number \n",
      "8\n"
     ]
    },
    {
     "data": {
      "text/plain": [
       "28"
      ]
     },
     "execution_count": 12,
     "metadata": {},
     "output_type": "execute_result"
    }
   ],
   "source": [
    "#sum of n natural number \n",
    "print(\"enter a number \")\n",
    "n= int(input())\n",
    "ans=0\n",
    "for i in range(n):\n",
    "    ans=ans+i\n",
    "ans\n"
   ]
  },
  {
   "cell_type": "code",
   "execution_count": 13,
   "id": "d58505b4",
   "metadata": {},
   "outputs": [
    {
     "name": "stdout",
     "output_type": "stream",
     "text": [
      "2 X  0 = 0\n",
      "2 X  1 = 2\n",
      "2 X  2 = 4\n",
      "2 X  3 = 6\n",
      "2 X  4 = 8\n",
      "2 X  5 = 10\n",
      "2 X  6 = 12\n",
      "2 X  7 = 14\n",
      "2 X  8 = 16\n",
      "2 X  9 = 18\n"
     ]
    }
   ],
   "source": [
    " #multiplication in a for loop\n",
    "for i in range(10):\n",
    "    print(\"2 X \", i, \"=\",2*i)"
   ]
  },
  {
   "cell_type": "code",
   "execution_count": 14,
   "id": "e696f08f",
   "metadata": {},
   "outputs": [
    {
     "name": "stdout",
     "output_type": "stream",
     "text": [
      "3 X 1 = 3\n",
      "3 X 2 = 6\n",
      "3 X 3 = 9\n",
      "3 X 4 = 12\n",
      "3 X 5 = 15\n",
      "3 X 6 = 18\n",
      "3 X 7 = 21\n",
      "3 X 8 = 24\n",
      "3 X 9 = 27\n",
      "3 X 10 = 30\n"
     ]
    }
   ],
   "source": [
    " #multiplication in a for loop\n",
    "for i in range(1,11):\n",
    "    #print(\"2 X \", i, \"=\",2*i)\n",
    "    print(\"3 X\",i,\"=\",3*i)"
   ]
  },
  {
   "cell_type": "code",
   "execution_count": 15,
   "id": "93b0aa8d",
   "metadata": {},
   "outputs": [
    {
     "name": "stdout",
     "output_type": "stream",
     "text": [
      "1\n",
      "3\n",
      "5\n",
      "7\n",
      "9\n"
     ]
    }
   ],
   "source": [
    "#find all the odd  number in a range \n",
    "\"\"\"for i in range(1,11):\n",
    "    if(i%2==0):\n",
    "        print(i)\n",
    "        \"\"\"\n",
    "#alternative method to find odd number \n",
    "for i in range(1,11,2): # here 2 denoted jumpes(step) between the index 1 to 11\n",
    "    print(i)"
   ]
  },
  {
   "cell_type": "code",
   "execution_count": 16,
   "id": "cd252749",
   "metadata": {},
   "outputs": [
    {
     "name": "stdout",
     "output_type": "stream",
     "text": [
      "0\n",
      "1\n",
      "2\n",
      "3\n",
      "4\n",
      "5\n",
      "6\n",
      "7\n",
      "8\n",
      "9\n",
      "10\n"
     ]
    }
   ],
   "source": [
    "# the computer always consist of three parameter in a range\n",
    "#startingpoint , endpoint,and step\n",
    "#for i in range (1,11,1):\n",
    "   # print(i)\n",
    "for i  in range(0,11,1):\n",
    "    print(i)"
   ]
  },
  {
   "cell_type": "code",
   "execution_count": 17,
   "id": "c423a663",
   "metadata": {},
   "outputs": [
    {
     "name": "stdout",
     "output_type": "stream",
     "text": [
      "9\n",
      "8\n",
      "7\n",
      "6\n",
      "5\n",
      "4\n",
      "3\n",
      "2\n",
      "1\n",
      "0\n"
     ]
    }
   ],
   "source": [
    "#number in reverse order in for loop \n",
    "for i in range(9,-1,-1):\n",
    "    print(i)"
   ]
  },
  {
   "cell_type": "code",
   "execution_count": 18,
   "id": "64746481",
   "metadata": {},
   "outputs": [
    {
     "name": "stdout",
     "output_type": "stream",
     "text": [
      "i\n",
      "n\n",
      "d\n",
      "i\n",
      "a\n"
     ]
    }
   ],
   "source": [
    "#for loop without range\n",
    "country=\"india\"\n",
    "for letter in country:\n",
    "    print(letter)\n",
    "    # it goes through the entire string that is stored in variable and iterates through each character "
   ]
  },
  {
   "cell_type": "code",
   "execution_count": 19,
   "id": "113bcf1d",
   "metadata": {},
   "outputs": [
    {
     "name": "stdout",
     "output_type": "stream",
     "text": [
      "0 1 2 3 4 5 6 7 8 9 "
     ]
    }
   ],
   "source": [
    "#print in a same line in for loop \n",
    "for i in range(10):\n",
    "    print(i , end =' ')\n",
    "    #here we are explicitly telling the computer to override the value  \n",
    "    #and consider this space as a new value for end which means computer\n",
    "    #will print x and end with space \n"
   ]
  },
  {
   "cell_type": "code",
   "execution_count": 20,
   "id": "cec96ec5",
   "metadata": {},
   "outputs": [
    {
     "name": "stdout",
     "output_type": "stream",
     "text": [
      "today's date is \n",
      "10-5-2021\n"
     ]
    }
   ],
   "source": [
    "d=10\n",
    "m=5\n",
    "y=2021\n",
    "print(\"today's date is \")\n",
    "print(d,m,y,sep='-')"
   ]
  },
  {
   "cell_type": "code",
   "execution_count": 21,
   "id": "759d91dc",
   "metadata": {},
   "outputs": [
    {
     "name": "stdout",
     "output_type": "stream",
     "text": [
      "today's date is 10-5-2021\n"
     ]
    }
   ],
   "source": [
    "d=10\n",
    "m=5\n",
    "y=2021\n",
    "print(\"today's date is \", end='')\n",
    "print(d,m,y,sep='-')"
   ]
  },
  {
   "cell_type": "code",
   "execution_count": 22,
   "id": "d2ee2ba9",
   "metadata": {},
   "outputs": [
    {
     "name": "stdout",
     "output_type": "stream",
     "text": [
      "5\n",
      "5 X 1 =5\n",
      "5 X 2 =10\n",
      "5 X 3 =15\n",
      "5 X 4 =20\n",
      "5 X 5 =25\n",
      "5 X 6 =30\n",
      "5 X 7 =35\n",
      "5 X 8 =40\n",
      "5 X 9 =45\n",
      "5 X 10 =50\n"
     ]
    }
   ],
   "source": [
    "num=int(input())\n",
    "for i in range(1,11):\n",
    "    #print(num, \"X\",i,\"=\",num*i)\n",
    "    #print(f'{num} X {i} = {num*i}')\n",
    "    #print('{0} X {1} = {2}'.format(num,1,num*i))\n",
    "    print('%d X %d =%d' %(num,i,num*i)) "
   ]
  },
  {
   "cell_type": "code",
   "execution_count": 23,
   "id": "9a4c465e",
   "metadata": {},
   "outputs": [
    {
     "name": "stdout",
     "output_type": "stream",
     "text": [
      "value of pi =3.142857142857143\n",
      "value of pi = 3.142857142857143\n",
      "value of pi=3.142857\n"
     ]
    }
   ],
   "source": [
    "pi=22/7\n",
    "print(f'value of pi ={pi}')\n",
    "print('value of pi = {0}'.format(pi))\n",
    "print('value of pi=%f'%(pi))"
   ]
  },
  {
   "cell_type": "code",
   "execution_count": 24,
   "id": "37a989eb",
   "metadata": {},
   "outputs": [
    {
     "name": "stdout",
     "output_type": "stream",
     "text": [
      "value of pi =3.143\n",
      "value of pi = 3.14\n",
      "value of pi=3.1429\n"
     ]
    }
   ],
   "source": [
    "#here we want to print specific digit after decimal \n",
    "pi=22/7\n",
    "print(f'value of pi ={pi:.3f}')\n",
    "print('value of pi = {0:.2f}'.format(pi))\n",
    "print('value of pi=%.4f'%(pi))\n",
    "#3f,2f,4f denotes the number of digit after decimal"
   ]
  },
  {
   "cell_type": "code",
   "execution_count": 25,
   "id": "8bc64640",
   "metadata": {},
   "outputs": [
    {
     "name": "stdout",
     "output_type": "stream",
     "text": [
      "    1\n",
      "   11\n",
      "  111\n",
      " 1111\n",
      "11111\n"
     ]
    }
   ],
   "source": [
    "#here we want to print the statement left aligned\n",
    "print('{0:5d}'.format(1))\n",
    "print('{0:5d}'.format(11))\n",
    "print('{0:5d}'.format(111))\n",
    "print('{0:5d}'.format(1111))\n",
    "print('{0:5d}'.format(11111))"
   ]
  },
  {
   "cell_type": "code",
   "execution_count": 26,
   "id": "22cd563f",
   "metadata": {},
   "outputs": [
    {
     "name": "stdout",
     "output_type": "stream",
     "text": [
      "enter a number6\n",
      "720\n"
     ]
    }
   ],
   "source": [
    "#find the factorial of the given number \n",
    "num=int(input(\"enter a number\"))\n",
    "fact=1\n",
    "if(num<0):\n",
    "    print(\"not defined \")\n",
    "else:\n",
    "    while(num>0):\n",
    "        fact=fact*num\n",
    "        num=num-1\n",
    "    print(fact)"
   ]
  },
  {
   "cell_type": "code",
   "execution_count": 27,
   "id": "08962c94",
   "metadata": {},
   "outputs": [
    {
     "name": "stdout",
     "output_type": "stream",
     "text": [
      "enter my number8\n",
      "40320\n"
     ]
    }
   ],
   "source": [
    "num=int(input(\"enter my number\"))\n",
    "fact=1\n",
    "if num<0:\n",
    "    print(\"not defined\")\n",
    "else:\n",
    "    for i in range(num,1,-1):\n",
    "        fact=fact*i\n",
    "    print(fact)"
   ]
  },
  {
   "cell_type": "code",
   "execution_count": 28,
   "id": "a6356cef",
   "metadata": {},
   "outputs": [
    {
     "name": "stdout",
     "output_type": "stream",
     "text": [
      "enter my number 8\n",
      "1\n"
     ]
    }
   ],
   "source": [
    "#find the number of digit in a given number \n",
    "num=abs(int(input(\"enter my number \")))\n",
    "strNum=str(num)\n",
    "digit=0\n",
    "for c in strNum:\n",
    "    digit=digit+1\n",
    "print(digit)"
   ]
  },
  {
   "cell_type": "code",
   "execution_count": 29,
   "id": "53bdd0be",
   "metadata": {},
   "outputs": [
    {
     "name": "stdout",
     "output_type": "stream",
     "text": [
      "enter my number8\n",
      "8\n"
     ]
    }
   ],
   "source": [
    "#reverse the number using for loop\n",
    "num=int(input(\"enter my number\"))\n",
    "absStrNum=str(abs(num))\n",
    "rev='' #it is the space here c for each character in absStrnum and stores in rev for each each chaarcterr c for \n",
    "#eg 1234 then it stores first 1 +space then \n",
    "for c in absStrNum:\n",
    "    rev=c+rev\n",
    "if(num>=0):\n",
    "    print(rev)\n",
    "else:\n",
    "    print('-'+ rev)\n",
    "    "
   ]
  },
  {
   "cell_type": "code",
   "execution_count": 30,
   "id": "ef7deb35",
   "metadata": {},
   "outputs": [
    {
     "name": "stdout",
     "output_type": "stream",
     "text": [
      "enter my number8\n",
      "palindrome\n"
     ]
    }
   ],
   "source": [
    "#find the number  whether it is palindrome or not \n",
    "num=int(input('enter my number'))\n",
    "absStrNum=str(abs(num))\n",
    "rev = ''\n",
    "for c in absStrNum:\n",
    "    rev= c + rev\n",
    "if(num < 0):\n",
    "    rev ='-'+ rev\n",
    "if(num == int(rev)):\n",
    "    print('palindrome')\n",
    "else: \n",
    "    print('not a palindrome')"
   ]
  },
  {
   "cell_type": "code",
   "execution_count": 31,
   "id": "5eb5cfc1",
   "metadata": {},
   "outputs": [
    {
     "name": "stdout",
     "output_type": "stream",
     "text": [
      "C:\\Users\\HP\\anaconda3\n"
     ]
    }
   ],
   "source": [
    "import sys\n",
    "\n",
    "locate_python = sys.exec_prefix\n",
    "\n",
    "print(locate_python)"
   ]
  },
  {
   "cell_type": "code",
   "execution_count": 32,
   "id": "79392c63",
   "metadata": {},
   "outputs": [
    {
     "data": {
      "text/plain": [
       "6"
      ]
     },
     "execution_count": 32,
     "metadata": {},
     "output_type": "execute_result"
    }
   ],
   "source": [
    "f = open('myname.txt','w')\n",
    "f.write('Rohit ')\n",
    "\n",
    "# 'w 'is used here to write in file\n",
    "# 'r' is used here to read the files\n",
    "# if we replace w or r with a then after each execution\n",
    "# it repeat the print value"
   ]
  },
  {
   "cell_type": "code",
   "execution_count": 33,
   "id": "e9b6d8e5",
   "metadata": {},
   "outputs": [],
   "source": [
    "f.write('welcome to ')\n",
    "f.write('IIT MADRAS ')\n",
    "f.write('india No. 1 best institute ')\n",
    "f.close()"
   ]
  },
  {
   "cell_type": "code",
   "execution_count": 34,
   "id": "96669144",
   "metadata": {},
   "outputs": [
    {
     "name": "stdout",
     "output_type": "stream",
     "text": [
      "Rohit welcome to IIT MADRAS india No. 1 best institute \n"
     ]
    }
   ],
   "source": [
    "x=open('myname.txt','r')\n",
    "s=x.read()\n",
    "print(s)\n",
    "x.close()\n"
   ]
  },
  {
   "cell_type": "code",
   "execution_count": 35,
   "id": "2e7ea51a",
   "metadata": {},
   "outputs": [
    {
     "name": "stdout",
     "output_type": "stream",
     "text": [
      "Rohit welcome to IIT MADRAS india No. 1 best institute \n"
     ]
    }
   ],
   "source": [
    "x=open('myname.txt','r')\n",
    "s=x.read()\n",
    "print(s)\n",
    "x.close()\n",
    "# if we do some changes in the file that we created \n",
    "# then automatcially changes in the directory  "
   ]
  },
  {
   "cell_type": "code",
   "execution_count": 36,
   "id": "88f010a0",
   "metadata": {},
   "outputs": [
    {
     "data": {
      "text/plain": [
       "31"
      ]
     },
     "execution_count": 36,
     "metadata": {},
     "output_type": "execute_result"
    }
   ],
   "source": [
    "d=open('newfile.txt','w' )\n",
    "d.write('hey Rani ')\n",
    "d.write('i am missing you daily my babe ')\n"
   ]
  },
  {
   "cell_type": "code",
   "execution_count": 37,
   "id": "b628886e",
   "metadata": {},
   "outputs": [
    {
     "name": "stdout",
     "output_type": "stream",
     "text": [
      "\n"
     ]
    }
   ],
   "source": [
    "T=open('newfile.txt','r')\n",
    "P=T.read()\n",
    "print(P)\n"
   ]
  },
  {
   "cell_type": "code",
   "execution_count": 38,
   "id": "703f225f",
   "metadata": {},
   "outputs": [],
   "source": [
    "q=open('word.txt','w' )\n"
   ]
  },
  {
   "cell_type": "code",
   "execution_count": 39,
   "id": "cc436388",
   "metadata": {},
   "outputs": [
    {
     "data": {
      "text/plain": [
       "3"
      ]
     },
     "execution_count": 39,
     "metadata": {},
     "output_type": "execute_result"
    }
   ],
   "source": [
    "q.write('one')"
   ]
  },
  {
   "cell_type": "code",
   "execution_count": 40,
   "id": "e6edcafc",
   "metadata": {},
   "outputs": [],
   "source": [
    "f = open('writing.txt', 'w')\n",
    "f.write('one')\n",
    "f.write('two')\n",
    "f.write('three')\n",
    "f.write('four')\n",
    "f.write('five')\n",
    "f.close()"
   ]
  },
  {
   "cell_type": "code",
   "execution_count": 41,
   "id": "40295441",
   "metadata": {},
   "outputs": [
    {
     "data": {
      "text/plain": [
       "'onetwothreefourfive'"
      ]
     },
     "execution_count": 41,
     "metadata": {},
     "output_type": "execute_result"
    }
   ],
   "source": [
    "d=open('writing.txt','r')\n",
    "d.read()\n",
    "\n"
   ]
  },
  {
   "cell_type": "code",
   "execution_count": 42,
   "id": "415993b4",
   "metadata": {},
   "outputs": [
    {
     "ename": "NameError",
     "evalue": "name 'L' is not defined",
     "output_type": "error",
     "traceback": [
      "\u001b[1;31m---------------------------------------------------------------------------\u001b[0m",
      "\u001b[1;31mNameError\u001b[0m                                 Traceback (most recent call last)",
      "Input \u001b[1;32mIn [42]\u001b[0m, in \u001b[0;36m<cell line: 3>\u001b[1;34m()\u001b[0m\n\u001b[0;32m      1\u001b[0m l\u001b[38;5;241m=\u001b[39m[\u001b[38;5;241m2\u001b[39m,\u001b[38;5;241m3\u001b[39m,\u001b[38;5;241m4\u001b[39m,\u001b[38;5;241m5\u001b[39m]\n\u001b[0;32m      2\u001b[0m flag \u001b[38;5;241m=\u001b[39m \u001b[38;5;28;01mTrue\u001b[39;00m\n\u001b[1;32m----> 3\u001b[0m \u001b[38;5;28;01mfor\u001b[39;00m i \u001b[38;5;129;01min\u001b[39;00m \u001b[38;5;28mrange\u001b[39m(\u001b[38;5;28mlen\u001b[39m(\u001b[43mL\u001b[49m)):\n\u001b[0;32m      4\u001b[0m     \u001b[38;5;28;01mif\u001b[39;00m L[i] \u001b[38;5;241m>\u001b[39m L[i \u001b[38;5;241m+\u001b[39m \u001b[38;5;241m1\u001b[39m]:\n\u001b[0;32m      5\u001b[0m         flag \u001b[38;5;241m=\u001b[39m \u001b[38;5;28;01mFalse\u001b[39;00m\n",
      "\u001b[1;31mNameError\u001b[0m: name 'L' is not defined"
     ]
    }
   ],
   "source": [
    "l=[2,3,4,5]\n",
    "flag = True\n",
    "for i in range(len(L)):\n",
    "    if L[i] > L[i + 1]:\n",
    "        flag = False"
   ]
  },
  {
   "cell_type": "code",
   "execution_count": null,
   "id": "bf11d9de",
   "metadata": {},
   "outputs": [],
   "source": [
    "print(int('1.2'))"
   ]
  },
  {
   "cell_type": "code",
   "execution_count": null,
   "id": "66230b69",
   "metadata": {},
   "outputs": [],
   "source": [
    "def quotient(a, b):\n",
    "    try:\n",
    "        q = a // b\n",
    "        return q\n",
    "    except TypeError:\n",
    "        print('Cannot divide strings')\n",
    "    except ZeroDivisionError:\n",
    "        print('Division by 0 is not allowed')\n",
    "    finally:\n",
    "        print('I will always be executed')\n",
    "    \n",
    "x = quotient('10', '5')\n",
    "x = quotient(10, 0)\n",
    "x = quotient(10, 5)\n",
    "print(x)"
   ]
  },
  {
   "cell_type": "code",
   "execution_count": null,
   "id": "06472eb8",
   "metadata": {},
   "outputs": [],
   "source": [
    "n = int(input())\n",
    "M = [ ]\n",
    "for i in range(n):\n",
    "    M.append([ ])\n",
    "    for j in range(n):\n",
    "        if i == j:\n",
    "            M[-1].append(1)\n",
    "        else:\n",
    "            M[-1].append(0)"
   ]
  },
  {
   "cell_type": "code",
   "execution_count": null,
   "id": "41b37450",
   "metadata": {},
   "outputs": [],
   "source": [
    "D = {'Anita': 23, 'Ashwin': 43,\n",
    "     'Ahana': '24',\n",
    "     'Adarsh': 30, 'Archana': 15}\n",
    "try:\n",
    "    # iterates through the keys from left to right\n",
    "    for key in D:\n",
    "        value = D[key]\n",
    "        if type(value) == str:\n",
    "            raise 'Error'\n",
    "        print(f'{key}:{value}')\n",
    "except:\n",
    "    print(\"Values cannot be strings\")"
   ]
  },
  {
   "cell_type": "code",
   "execution_count": null,
   "id": "66f31899",
   "metadata": {},
   "outputs": [],
   "source": []
  },
  {
   "cell_type": "code",
   "execution_count": null,
   "id": "2b4d02b7",
   "metadata": {},
   "outputs": [],
   "source": [
    "class Rational:\n",
    "    def __init__(self, num, den):\n",
    "        self.num = num\n",
    "        self.den = den\n",
    "        self.reduce()\n",
    "        \n",
    "    def print_info(self):\n",
    "        if self.den == 1:\n",
    "            print(f'{self.num}')\n",
    "        else:\n",
    "            print(f'{self.num}/{self.den}')\n",
    "    \n",
    "    def reduce(self):\n",
    "        for i in range(min(self.num, self.den), 1, -1):\n",
    "            if self.num % i == 0 and self.den % i == 0:\n",
    "                self.num = self.num // i\n",
    "                self.den = self.den // i\n",
    "                break\n",
    "\n",
    "    def multiply(self, k):\n",
    "        self.num = k * self.num\n",
    "        self.reduce()\n",
    "\n",
    "    def divide(self, k):\n",
    "        self.den = self.den * k\n",
    "        self.reduce()"
   ]
  },
  {
   "cell_type": "code",
   "execution_count": null,
   "id": "6b0e32cd",
   "metadata": {},
   "outputs": [],
   "source": [
    "s=set()\n",
    "s.add(1)\n",
    "s.add(2)\n",
    "print(s)"
   ]
  },
  {
   "cell_type": "code",
   "execution_count": null,
   "id": "86a243bc",
   "metadata": {},
   "outputs": [],
   "source": [
    "x = Rational(4, 18)\n",
    "x.print_info()"
   ]
  },
  {
   "cell_type": "code",
   "execution_count": null,
   "id": "39bde91f",
   "metadata": {},
   "outputs": [],
   "source": [
    "s='vibgyor'\n",
    "t='vibgyor'\n",
    "count=0\n",
    "for i in range(7):\n",
    "    for j in range(7):\n",
    "        print(i,j,s[i],s[j])\n",
    "        count+=1\n",
    "print(count)\n"
   ]
  },
  {
   "cell_type": "code",
   "execution_count": null,
   "id": "8113e2eb",
   "metadata": {},
   "outputs": [],
   "source": [
    "#find all the prime number les than the entered number \n",
    "num=int(input('enter a number'))\n",
    "if num>=2:\n",
    "    print(2,end = ' ')\n",
    "for i in range(3,num):\n",
    "    flag=False # in python we When a flag is set to false, \n",
    "    #it means some condition does not exist.\n",
    "    for j in range(2,i):# here this loop will check the index if a number \n",
    "        #is a multiple of any element in loop 1 that divides in loop 2then it will not prime number \n",
    "        if(i % j == 0): #if this condition satisfy \n",
    "            #then again the particular number in not prime \n",
    "            flag=False\n",
    "            break #break the inner loop\n",
    "        else:\n",
    "            flag= True #then we check for true\n",
    "            #if flag=true then print prime number before the input value\n",
    "    if(flag):\n",
    "        print(i,end = ' ')\n",
    "print(i)\n",
    "print(j)"
   ]
  },
  {
   "cell_type": "code",
   "execution_count": null,
   "id": "e90f8d61",
   "metadata": {},
   "outputs": [],
   "source": [
    "#find the day wise total rainfall for the entered duration \n",
    "#of time eg week ,month, year\n",
    "# -1 no rainfall happens on that day \n",
    "days=int(input('enter the number of days '))\n",
    "for i in range(1,days+1): #here we call first days as day\n",
    "    #1 and the last day as day 7 instead of 0 to 6\n",
    "    total=0\n",
    "    rainfall=int(input('enter the rainfall'))\n",
    "    while(rainfall!=-1):# it iteraes untill we got -1 \n",
    "        total=total+rainfall # it keeps adding the rainfall values untill we get -1\n",
    "        rainfall=int(input('enter the rainfall'))\n",
    "    print('total rainfall for day {0} is {1}'.format(i,total))\n"
   ]
  },
  {
   "cell_type": "code",
   "execution_count": null,
   "id": "4e5ff030",
   "metadata": {},
   "outputs": [],
   "source": [
    "#find the length of longest word from the set of word entered by the user \n",
    "\n",
    "word=input('enter a word : ')\n",
    "maxlen=0\n",
    "#count=0\n",
    "while(word!='-1'): #it iterates the loop untill we get -1 means no word \n",
    "    count=0\n",
    "    for letter in word:# for each loop it means it iterates the word letter one by one and store it to count \n",
    "        count=count+1\n",
    "    if count>maxlen: #here we compare the length of \n",
    "        #each word with the previous max word and update with the max value\n",
    "        maxlen=count\n",
    "    word=input('enter a word: ')\n",
    "print('the length of longest word is: ', maxlen )\n"
   ]
  },
  {
   "cell_type": "markdown",
   "id": "9d0983de",
   "metadata": {},
   "source": [
    "# Break "
   ]
  },
  {
   "cell_type": "code",
   "execution_count": null,
   "id": "b58fb059",
   "metadata": {},
   "outputs": [],
   "source": [
    " #21f2001175@student.onlinedegree.iitm.ac.in\n",
    "email=input('enter the mail id :')\n",
    "for c in email:\n",
    "    if(c=='@'):\n",
    "        break #when the if condition satisfy it will break the for loop and jump to print \n",
    "    print(c,end='')\n",
    "#here we want to print the user name \n",
    "    "
   ]
  },
  {
   "cell_type": "markdown",
   "id": "dfee8b7e",
   "metadata": {},
   "source": [
    "# continue \n"
   ]
  },
  {
   "cell_type": "code",
   "execution_count": null,
   "id": "404e0eb1",
   "metadata": {},
   "outputs": [],
   "source": [
    "email=input('enter the mail id :')\n",
    "for c in email:\n",
    "    if(c=='@'):\n",
    "        print('')# it is used to print the word in next line \n",
    "        continue # it itearates in input value  for each letter and \n",
    "        # it jumps to the next value when the condition is satisfy \n",
    "        #it skips the value where our condition will satisfy and iterates in given sequence\n",
    "        \n",
    "    print(c,end = '') \n",
    "    "
   ]
  },
  {
   "cell_type": "markdown",
   "id": "adbe692b",
   "metadata": {},
   "source": [
    "# Pass"
   ]
  },
  {
   "cell_type": "code",
   "execution_count": null,
   "id": "e7205876",
   "metadata": {},
   "outputs": [],
   "source": [
    "for x in range(11):\n",
    "    if x % 3 ==0:\n",
    "        print(x)\n",
    "    else:\n",
    "        pass # it perform no operation it is a null statement in python \n",
    " # here when the value of x became 1 and 1 is not divisible #\n",
    "#by three then we came across else block  and the computer reach the keyword pass it did nothing and went back to the next value which is 2 and again same ...."
   ]
  },
  {
   "cell_type": "code",
   "execution_count": null,
   "id": "489c4279",
   "metadata": {},
   "outputs": [],
   "source": [
    "#Accept a positive integer nn as input and print the first \n",
    "#nn positive integers, one number on each line.\n",
    "n=int(input('input my number'))\n",
    "for i in range(1,n+1):\n",
    "    print(i)"
   ]
  },
  {
   "cell_type": "code",
   "execution_count": null,
   "id": "b9ea362b",
   "metadata": {},
   "outputs": [],
   "source": [
    "#Accept a positive integer nn as input and print all the factors of nn, one number on each line.\n",
    "n=int(input(\"enter the number\"))\n",
    "for i in range(1,n+1):\n",
    "    if(n%i==0):\n",
    "        print(i)\n",
    "    \n"
   ]
  },
  {
   "cell_type": "code",
   "execution_count": null,
   "id": "767f4346",
   "metadata": {},
   "outputs": [],
   "source": [
    "5%2"
   ]
  },
  {
   "cell_type": "code",
   "execution_count": null,
   "id": "179bc4d1",
   "metadata": {},
   "outputs": [],
   "source": [
    "#Accept two positive integers aa and bb as input. #Print the sum of all integers in the range [1000, 2000][1000,2000], ##endpoints inclusive, that are divisible by both aa and bb. If you find no number satisfying this condition in the given range, then print 0\n",
    "a=int(input())\n",
    "b=int(input())\n",
    "\n",
    "total=0\n",
    "for i in range(1000,2001):\n",
    "    if i%a==0 and i%b==0:\n",
    "       total+=i\n",
    "if total!=0:\n",
    "     print('sum of all integers that are divisible by a and b ',total)\n",
    "else:\n",
    "    print(0)\n",
    "    \n",
    "    \n"
   ]
  },
  {
   "cell_type": "markdown",
   "id": "9203f2ec",
   "metadata": {},
   "source": [
    "# class and object \n",
    "        \n",
    "        "
   ]
  },
  {
   "cell_type": "code",
   "execution_count": null,
   "id": "f0d787db",
   "metadata": {},
   "outputs": [],
   "source": [
    "# first letter of class name is always capital \n",
    "     \n",
    "class Student:\n",
    "    roll_no= None  \n",
    "    name =   None\n",
    "s0=Student() #object # this is consturctor we constructed a object called S0\n",
    "s0.roll_no = 0 \n",
    "s0.name = 'Rohit '\n",
    "print(s0.roll_no)\n",
    "print(s0.name)\n",
    "    "
   ]
  },
  {
   "cell_type": "code",
   "execution_count": null,
   "id": "aa48b52f",
   "metadata": {},
   "outputs": [],
   "source": [
    "s1=Student()\n",
    "print(s1.roll_no , s1.name) #defaults value from class \n",
    "s2= Student()\n",
    "s2.roll_no=2\n",
    "s2.name= \"rk\"\n",
    "print(s2.roll_no , s2.name)"
   ]
  },
  {
   "cell_type": "code",
   "execution_count": null,
   "id": "7fc76eca",
   "metadata": {},
   "outputs": [],
   "source": [
    "s50=Student()\n",
    "s50.name=\"Aditi\"\n",
    "print(s50.name , s50.roll_no)"
   ]
  },
  {
   "cell_type": "code",
   "execution_count": null,
   "id": "15f03cab",
   "metadata": {},
   "outputs": [],
   "source": [
    "class Student:\n",
    "    def __init__(self, roll_no,name):\n",
    "        self.roll_no=roll_no\n",
    "        self.name = name \n",
    "    def display(self):\n",
    "        print(self.roll_no , self.name)\n",
    "s0 = Student(0 , 'Rohit')\n",
    "s0.display()\n",
    "s1=Student(1,'Aditi')\n",
    "s1.display()\n",
    "#everytime we try to create an object using these two parameter \n",
    "#python will excute the class three lines which is called init\n",
    "#this is a special function which exist inside every single class in python programming language "
   ]
  },
  {
   "cell_type": "code",
   "execution_count": null,
   "id": "4cdd935b",
   "metadata": {},
   "outputs": [],
   "source": [
    "#self is a container which holds the current object that\n",
    "#we have to use this self as first paramteer in every single function which is there inside a class\n",
    "class Student:\n",
    "    count=0 # count is owned by class student not under student \n",
    "    def __init__(self, roll_no,name ,total):\n",
    "        self.roll_no=roll_no\n",
    "        self.name = name \n",
    "        self.total=total\n",
    "    def display(self):\n",
    "        print(self.roll_no , self.name,self.total)\n",
    "    def result(self):\n",
    "        if self.total>120:\n",
    "            print('Pass')\n",
    "        else:\n",
    "            print('Fail')\n",
    "            \n",
    "        \n",
    "        \n",
    "        \n",
    "s0 = Student(0 , 'Rohit',100)\n",
    "Student.count+=1\n",
    "s0.result()\n",
    "s0.display()\n",
    "s1=Student(1,'Aditi',150)\n",
    "Student.count+=1\n",
    "s1.display()\n",
    "s1.result()\n",
    "#Roll_no and name are  object attributes and count are class atrributes "
   ]
  },
  {
   "cell_type": "code",
   "execution_count": null,
   "id": "eabb78b6",
   "metadata": {},
   "outputs": [],
   "source": [
    "i=int()\n",
    "print(type(i))\n",
    "\n",
    "s=str()\n",
    "print(type(s))\n",
    "\n",
    "l=list()\n",
    "print(type(l))\n",
    "\n",
    "d= dict()\n",
    "print(type(d))\n",
    "\n",
    "#what is list, str, int ?? and why it is always called class list class int "
   ]
  },
  {
   "cell_type": "code",
   "execution_count": null,
   "id": "c91a706f",
   "metadata": {},
   "outputs": [],
   "source": [
    "class Student:\n",
    "    def __init__(self,name, age , marks):\n",
    "        self.name=name\n",
    "        self.age=age\n",
    "        self.marks=marks \n",
    "    def display(self):\n",
    "        print(self.name,self.age,self.marks)\n",
    "        \n",
    "class employee():\n",
    "    def __init__(self,name, age , salary):\n",
    "        self.name=name\n",
    "        self.age=age\n",
    "        self.salary=salary \n",
    "    def display(self):\n",
    "        print(self.name,self.age,self.salary)\n",
    "\n",
    "s=Student('Aditi',20,250) #object\n",
    "s.display()\n",
    "e=employee('Rohit',19,50000)\n",
    "e.display()\n",
    "#too many repitation here as self.roll_no orself.age      "
   ]
  },
  {
   "cell_type": "code",
   "execution_count": null,
   "id": "c79f0c45",
   "metadata": {},
   "outputs": [],
   "source": [
    "class Person():  #parent \n",
    "    def __init__(self,name,age):\n",
    "        self.name=name\n",
    "        self.age=age \n",
    "        \n",
    "    def display(self):\n",
    "        print(self.name, self.age)   #this was a brown colur \n",
    "\n",
    "class Student(Person):\n",
    "    def __init__(self,name, age , marks):\n",
    "        super().__init__(name,age) #super function recalls the init method from parent here  \n",
    "        self.marks=marks \n",
    "        \n",
    "    def display(self):\n",
    "        super().display()\n",
    "        print(self.marks)\n",
    "        \n",
    "class employee(Person):\n",
    "    def __init__(self,name, age , salary):\n",
    "        super().__init__(name,age) \n",
    "        self.salary=salary \n",
    "        \n",
    "    def display(self):\n",
    "       # super().display() \n",
    "        #print(self.salary)\n",
    "        print(self.name, self.age ,self.salary) # we replacec brown color with red color \n",
    "#this features is called method overiding\n",
    "#adding two underscore we are securing our class value referred as  private member of a class person\n",
    "#and it not accessible to everyone\n",
    "        \n",
    "s=Student('Aditi',20,250) #object\n",
    "s.display()\n",
    "e=employee('Rohit',19,50000)\n",
    "e.display()    \n",
    "#inheritance allows child to inherit properties from parent "
   ]
  },
  {
   "cell_type": "code",
   "execution_count": null,
   "id": "ab516cd4",
   "metadata": {},
   "outputs": [],
   "source": [
    "355%2\n"
   ]
  },
  {
   "cell_type": "code",
   "execution_count": null,
   "id": "262af5dd",
   "metadata": {},
   "outputs": [],
   "source": [
    "788%2"
   ]
  },
  {
   "cell_type": "code",
   "execution_count": null,
   "id": "8e1df77e",
   "metadata": {},
   "outputs": [],
   "source": [
    "(355%2 == 1) = 1\n",
    "\n",
    "(788%2 == 1) = 0\n",
    "\n",
    "(355%2 == 0) = 1\n",
    "\n",
    "(788%2 == 0) = 1"
   ]
  },
  {
   "cell_type": "code",
   "execution_count": 5,
   "id": "1ed43285",
   "metadata": {},
   "outputs": [
    {
     "name": "stdout",
     "output_type": "stream",
     "text": [
      "name: rohit\n",
      "rohit\n"
     ]
    }
   ],
   "source": [
    "name=str(input('name: '))\n",
    "print(name)\n"
   ]
  },
  {
   "cell_type": "code",
   "execution_count": 9,
   "id": "bbf216f4",
   "metadata": {},
   "outputs": [
    {
     "name": "stdout",
     "output_type": "stream",
     "text": [
      "light: yellow\n",
      "Be ready\n"
     ]
    }
   ],
   "source": [
    "light=input('light: ')\n",
    "if (light=='red'):\n",
    "    print('stop')\n",
    "elif(light=='green'):\n",
    "    print(\"go\")\n",
    "elif(light=='yellow'):\n",
    "    print('Be ready')\n",
    "else:\n",
    "    print(\"light is broken\")\n",
    "    \n",
    "    "
   ]
  },
  {
   "cell_type": "code",
   "execution_count": 15,
   "id": "9bbe722c",
   "metadata": {},
   "outputs": [
    {
     "name": "stderr",
     "output_type": "stream",
     "text": [
      "<>:6: SyntaxWarning: \"is\" with a literal. Did you mean \"==\"?\n",
      "<>:6: SyntaxWarning: \"is\" with a literal. Did you mean \"==\"?\n"
     ]
    },
    {
     "name": "stdout",
     "output_type": "stream",
     "text": [
      "A: 2\n",
      "M/F:F\n",
      "no fee\n"
     ]
    },
    {
     "name": "stderr",
     "output_type": "stream",
     "text": [
      "C:\\Users\\HP\\AppData\\Local\\Temp\\ipykernel_10544\\4286782661.py:6: SyntaxWarning: \"is\" with a literal. Did you mean \"==\"?\n",
      "  print(fee is 200)\n"
     ]
    }
   ],
   "source": [
    "A=int(input(\"A: \"))\n",
    "G=input(\"M/F:\")\n",
    "if((A==1 or A==2 ) and G==\"M\"):\n",
    "    print(\"fee is 100\")\n",
    "elif((A==3 or A==4) and G==\"F\"):\n",
    "    print(fee is 200)\n",
    "elif(A==5 and G==\"M\" ):\n",
    "    print(\"fees is 300\")\n",
    "else:\n",
    "    print(\"no fee\")"
   ]
  },
  {
   "cell_type": "code",
   "execution_count": 19,
   "id": "71095ef0",
   "metadata": {},
   "outputs": [
    {
     "name": "stdout",
     "output_type": "stream",
     "text": [
      "age: 20\n",
      "yes\n"
     ]
    }
   ],
   "source": [
    "#<var>(false_val,true_val)[<condition>] clever if I ternary operator \n",
    "age=int(input(\"age: \"))\n",
    "vote= (\"No\", \"yes\") [age>=18]\n",
    "print(vote)"
   ]
  },
  {
   "cell_type": "code",
   "execution_count": 1,
   "id": "20ed0d43",
   "metadata": {},
   "outputs": [
    {
     "name": "stdout",
     "output_type": "stream",
     "text": [
      "False\n",
      "True\n",
      "False\n",
      "False\n"
     ]
    }
   ],
   "source": [
    "print(True and False)\n",
    "print(True and True)\n",
    "print(False and False)\n",
    "print(False and True)\n",
    "\n"
   ]
  },
  {
   "cell_type": "code",
   "execution_count": 19,
   "id": "4ea46133",
   "metadata": {},
   "outputs": [
    {
     "name": "stdout",
     "output_type": "stream",
     "text": [
      "it's a beatiful day\n",
      "we are from \"IIT\" Madras\n"
     ]
    }
   ],
   "source": [
    "print(\"it's a beatiful day\")\n",
    "print(\"we are from \\\"IIT\\\" Madras\")\n",
    "      "
   ]
  },
  {
   "cell_type": "code",
   "execution_count": 25,
   "id": "67a39e5a",
   "metadata": {},
   "outputs": [
    {
     "name": "stdout",
     "output_type": "stream",
     "text": [
      "abcd and \n",
      "ABCD AND \n"
     ]
    }
   ],
   "source": [
    "x=\"abcd and \"\n",
    "print(x.lower())\n",
    "print(x.upper())"
   ]
  },
  {
   "cell_type": "code",
   "execution_count": 5,
   "id": "bb7bcb74",
   "metadata": {},
   "outputs": [
    {
     "name": "stdout",
     "output_type": "stream",
     "text": [
      "enter a number \n",
      "3\n",
      "6\n"
     ]
    }
   ],
   "source": [
    "#let us find factorial of a number \n",
    "print(\"enter a number \")\n",
    "n=int(input())\n",
    "#n=3\n",
    "#1*2*3\n",
    "answer=1\n",
    "answer=answer*2\n",
    "answer=answer*3\n",
    "print(answer)\n",
    "\n",
    "\n",
    "\n"
   ]
  },
  {
   "cell_type": "code",
   "execution_count": 27,
   "id": "77d2977a",
   "metadata": {},
   "outputs": [
    {
     "name": "stdout",
     "output_type": "stream",
     "text": [
      "enter a number \n",
      "-4\n",
      "1\n"
     ]
    }
   ],
   "source": [
    "print(\"enter a number \")\n",
    "n=int(input())\n",
    "\n",
    "i=1\n",
    "answer=1\n",
    "while(i<=n):\n",
    "    answer=answer*i\n",
    "    i=i+1\n",
    "print(answer)"
   ]
  },
  {
   "cell_type": "code",
   "execution_count": 31,
   "id": "e47d866e",
   "metadata": {
    "scrolled": true
   },
   "outputs": [
    {
     "name": "stdout",
     "output_type": "stream",
     "text": [
      "-4\n",
      "not defined\n"
     ]
    }
   ],
   "source": [
    "num=int(input())\n",
    "fact=1\n",
    "if num<0:\n",
    "    print('not defined')\n",
    "else:\n",
    "    while num>0:\n",
    "        fact=fact*num\n",
    "        num=num-1 \n",
    "    print(fact)\n",
    "    "
   ]
  },
  {
   "cell_type": "code",
   "execution_count": 37,
   "id": "dfe54384",
   "metadata": {},
   "outputs": [
    {
     "name": "stdout",
     "output_type": "stream",
     "text": [
      "enter a number:-123\n",
      "3\n"
     ]
    }
   ],
   "source": [
    "num=abs(int(input('enter a number:')))\n",
    "digit=1\n",
    "while num>9:\n",
    "    num=num//10\n",
    "    digit=digit+1\n",
    "print(digit)"
   ]
  },
  {
   "cell_type": "code",
   "execution_count": 57,
   "id": "b7d9f163",
   "metadata": {},
   "outputs": [
    {
     "name": "stdout",
     "output_type": "stream",
     "text": [
      "Enter a number: -121\n",
      "-121 is a palindrome\n"
     ]
    }
   ],
   "source": [
    "#whether a number is palindrome or not \n",
    "# Take input from the user\n",
    "number = int(input(\"Enter a number: \"))\n",
    "\n",
    "# Convert the number to a string\n",
    "number_str = str(number)\n",
    "\n",
    "# Reverse the string\n",
    "reversed_str = number_str[::-1]\n",
    "\n",
    "# Check if the original string is equal to the reversed string\n",
    "if number < 0 and number_str[1:] == reversed_str[:-1]:\n",
    "    print(f\"{number} is a palindrome\")\n",
    "elif number >= 0 and number_str == reversed_str:\n",
    "    print(f\"{number} is a palindrome\")\n",
    "else:\n",
    "    print(f\"{number} is not a palindrome\")\n"
   ]
  },
  {
   "cell_type": "code",
   "execution_count": 64,
   "id": "b8b63207",
   "metadata": {},
   "outputs": [
    {
     "name": "stdout",
     "output_type": "stream",
     "text": [
      "enter a number 12345\n",
      "12345 is not a palindrome\n"
     ]
    }
   ],
   "source": [
    "num=int(input(\"enter a number \"))\n",
    "num_str=str(num)\n",
    "rev_str=num_str[::-1]\n",
    "#chek\n",
    "if num<0 and num_str[1:]==rev_str[:-1]:\n",
    "    print(f\"{num} is a palindrome\")\n",
    "elif num>0 and num_str==rev_str:\n",
    "          print(f\"{num}is a palindrome\")\n",
    "else:\n",
    "        print(f\"{num} is not a palindrome\")\n"
   ]
  },
  {
   "cell_type": "code",
   "execution_count": 70,
   "id": "3e54fb31",
   "metadata": {},
   "outputs": [
    {
     "name": "stdout",
     "output_type": "stream",
     "text": [
      "enter a number:123\n",
      "not a palindrome\n"
     ]
    }
   ],
   "source": [
    "num=int(input(\"enter a number:\"))\n",
    "absNum=abs(num)\n",
    "rev=absNum%10\n",
    "absNum=absNum//10\n",
    "while(absNum>0):\n",
    "    r=absNum%10\n",
    "    absNum=absNum//10\n",
    "    rev=rev*10+r\n",
    "if num<0:\n",
    "    rev=rev-2*rev\n",
    "if num==rev:\n",
    "    print('palindrome')\n",
    "    \n",
    "else:\n",
    "    print('not a palindrome')"
   ]
  }
 ],
 "metadata": {
  "kernelspec": {
   "display_name": "Python 3 (ipykernel)",
   "language": "python",
   "name": "python3"
  },
  "language_info": {
   "codemirror_mode": {
    "name": "ipython",
    "version": 3
   },
   "file_extension": ".py",
   "mimetype": "text/x-python",
   "name": "python",
   "nbconvert_exporter": "python",
   "pygments_lexer": "ipython3",
   "version": "3.10.9"
  }
 },
 "nbformat": 4,
 "nbformat_minor": 5
}
